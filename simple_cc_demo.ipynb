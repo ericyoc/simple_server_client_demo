{
  "nbformat": 4,
  "nbformat_minor": 0,
  "metadata": {
    "colab": {
      "provenance": [],
      "authorship_tag": "ABX9TyM5ryOhWBGFu6emvVpIXVL6",
      "include_colab_link": true
    },
    "kernelspec": {
      "name": "python3",
      "display_name": "Python 3"
    },
    "language_info": {
      "name": "python"
    }
  },
  "cells": [
    {
      "cell_type": "markdown",
      "metadata": {
        "id": "view-in-github",
        "colab_type": "text"
      },
      "source": [
        "<a href=\"https://colab.research.google.com/github/ericyoc/simple_server_client_demo/blob/main/simple_cc_demo.ipynb\" target=\"_parent\"><img src=\"https://colab.research.google.com/assets/colab-badge.svg\" alt=\"Open In Colab\"/></a>"
      ]
    },
    {
      "cell_type": "code",
      "execution_count": 1,
      "metadata": {
        "id": "3EfWtAPbYnEQ"
      },
      "outputs": [],
      "source": [
        "import socket\n",
        "import threading"
      ]
    },
    {
      "cell_type": "code",
      "source": [
        "HOST = 'localhost'  # Server IP address\n",
        "PORT = 12345        # Server port"
      ],
      "metadata": {
        "id": "0FYxjll0cFC1"
      },
      "execution_count": 2,
      "outputs": []
    },
    {
      "cell_type": "code",
      "source": [
        "def start_server():\n",
        "    # Create a socket object\n",
        "    server_socket = socket.socket(socket.AF_INET, socket.SOCK_STREAM)\n",
        "\n",
        "    # Bind the socket to a specific address and port\n",
        "    server_socket.bind((HOST, PORT))\n",
        "\n",
        "    # Listen for incoming connections\n",
        "    server_socket.listen()\n",
        "\n",
        "    print(f\"Server is listening on {HOST}:{PORT}\")\n",
        "\n",
        "    while True:\n",
        "        # Accept a client connection\n",
        "        client_socket, address = server_socket.accept()\n",
        "        print(f\"Connected to client: {address}\")\n",
        "\n",
        "        while True:\n",
        "            # Receive data from the client\n",
        "            data = client_socket.recv(1024).decode('utf-8')\n",
        "\n",
        "            if data.lower() == 'q':\n",
        "                print(\"Client disconnected. Shutting down the server.\")\n",
        "                client_socket.close()\n",
        "                server_socket.close()\n",
        "                return\n",
        "\n",
        "            print(f\"Client: {data}\")\n",
        "\n",
        "            # Send a response back to the client\n",
        "            response = input(\"Server: \")\n",
        "            client_socket.send(response.encode('utf-8'))\n",
        "\n",
        "        # Close the client socket\n",
        "        client_socket.close()"
      ],
      "metadata": {
        "id": "q0y7V4jZcIWw"
      },
      "execution_count": 3,
      "outputs": []
    },
    {
      "cell_type": "code",
      "source": [
        "def start_client():\n",
        "    # Create a socket object\n",
        "    client_socket = socket.socket(socket.AF_INET, socket.SOCK_STREAM)\n",
        "\n",
        "    # Connect to the server\n",
        "    client_socket.connect((HOST, PORT))\n",
        "\n",
        "    print(f\"Connected to server: {HOST}:{PORT}\")\n",
        "\n",
        "    while True:\n",
        "        # Send a message to the server\n",
        "        message = input(\"Client: \")\n",
        "        client_socket.send(message.encode('utf-8'))\n",
        "\n",
        "        if message.lower() == 'q':\n",
        "            break\n",
        "\n",
        "        # Receive the response from the server\n",
        "        response = client_socket.recv(1024).decode('utf-8')\n",
        "        print(f\"Server: {response}\")\n",
        "\n",
        "    # Close the client socket\n",
        "    client_socket.close()"
      ],
      "metadata": {
        "id": "bMikiPAMcLEU"
      },
      "execution_count": 4,
      "outputs": []
    },
    {
      "cell_type": "code",
      "source": [
        "def main():\n",
        "    # Launch the server in a separate thread\n",
        "    server_thread = threading.Thread(target=start_server)\n",
        "    server_thread.start()\n",
        "\n",
        "    # Launch the client\n",
        "    start_client()\n",
        "\n",
        "    # Wait for the server thread to finish\n",
        "    server_thread.join()\n",
        "\n",
        "    print(\"Server and client stopped. Everything cleaned up.\")\n"
      ],
      "metadata": {
        "id": "gdl_lcDYcNA8"
      },
      "execution_count": 5,
      "outputs": []
    },
    {
      "cell_type": "code",
      "source": [
        "if __name__ == '__main__':\n",
        "    main()"
      ],
      "metadata": {
        "colab": {
          "base_uri": "https://localhost:8080/"
        },
        "id": "biDFvavpcORG",
        "outputId": "351e3925-b52b-46b9-cf8f-0df52cf73e5c"
      },
      "execution_count": 6,
      "outputs": [
        {
          "output_type": "stream",
          "name": "stdout",
          "text": [
            "Server is listening on localhost:12345\n",
            "Connected to server: localhost:12345Connected to client: ('127.0.0.1', 52628)\n",
            "\n",
            "Client: hi\n",
            "Client: hi\n",
            "Server: hello\n",
            "Server: hello\n",
            "Client: it works\n",
            "Client: it works\n",
            "Server: great\n",
            "Server: great\n",
            "Client: q\n",
            "Client disconnected. Shutting down the server.\n",
            "Server and client stopped. Everything cleaned up.\n"
          ]
        }
      ]
    }
  ]
}